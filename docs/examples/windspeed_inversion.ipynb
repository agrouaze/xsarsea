{
 "cells": [
  {
   "cell_type": "markdown",
   "id": "e7588254-89c4-4ad0-94d4-df629f2eb94c",
   "metadata": {},
   "source": [
    "# Wind speed invertion"
   ]
  },
  {
   "cell_type": "code",
   "execution_count": null,
   "id": "7136c9bf-eeba-42bc-b255-08cdc5710752",
   "metadata": {},
   "outputs": [],
   "source": [
    "import xsar\n",
    "from xsarsea import windspeed\n",
    "import xarray as xr\n",
    "import numpy as np\n",
    "import holoviews as hv\n",
    "hv.extension('bokeh')"
   ]
  },
  {
   "cell_type": "markdown",
   "id": "19887be3-890a-4071-bb96-07814f9bd474",
   "metadata": {},
   "source": [
    "## read sarwing owi file\n",
    "\n",
    "download more from https://cyclobs.ifremer.fr/static/sarwing_datarmor/processings/c39e79a/default/reports/shoc_dailyupdate_names/report.html (in the 'safe' column, download files named like `*-owi-xx-*.nc`)"
   ]
  },
  {
   "cell_type": "code",
   "execution_count": null,
   "id": "77630d90-573a-428a-9029-1c3272289879",
   "metadata": {},
   "outputs": [],
   "source": [
    "sarwing_owi_file = xsar.get_test_file('s1a-iw-owi-xx-20210909t130650-20210909t130715-039605-04AE83.nc')\n",
    "sarwing_ds = xr.open_dataset(sarwing_owi_file)\n",
    "sarwing_ds = xr.merge([sarwing_ds, xr.open_dataset(sarwing_owi_file, group='owiInversionTables_UV')])\n",
    "sarwing_ds = sarwing_ds.rename_dims({'owiAzSize': 'atrack', 'owiRaSize': 'xtrack'})\n",
    "sarwing_ds"
   ]
  },
  {
   "cell_type": "markdown",
   "id": "4ced9944-f9ba-4fa8-aa95-4e14c49fe0f8",
   "metadata": {},
   "source": [
    "## get ancillary wind\n",
    "\n",
    "Ecmwf wind is stored in owi file in *geographical* (deg N/S) convention. `xsarsea.windspeed` need it in *antenna* convention, as a complex number\n",
    "\n",
    "So we need to substract the heading to get it relative to azimuth, and add 90° to get it relative to antenna."
   ]
  },
  {
   "cell_type": "code",
   "execution_count": null,
   "id": "a1e03453-5cc6-4395-a998-a9a31224e634",
   "metadata": {},
   "outputs": [],
   "source": [
    "owi_ecmwf_wind = sarwing_ds.owiEcmwfWindSpeed * np.exp(1j* np.deg2rad(sarwing_ds.owiEcmwfWindDirection - sarwing_ds.owiHeading + 90))\n",
    "sarwing_ds = xr.merge([\n",
    "    sarwing_ds,\n",
    "    owi_ecmwf_wind.to_dataset(name='owi_ancillary_wind'),\n",
    "])\n"
   ]
  },
  {
   "cell_type": "markdown",
   "id": "b4128cac-1f6c-4db0-a3ed-4908fa3ec7ee",
   "metadata": {},
   "source": [
    "## copol inversion"
   ]
  },
  {
   "cell_type": "code",
   "execution_count": null,
   "id": "499ad90a-2d90-4a16-a016-cb3d55c7d23d",
   "metadata": {},
   "outputs": [],
   "source": [
    "windspeed_co = windspeed.invert_from_gmf(\n",
    "        sarwing_ds.owiIncidenceAngle,\n",
    "        sarwing_ds.owiNrcs,\n",
    "        sarwing_ds.owi_ancillary_wind,\n",
    "        gmf='cmod5n')\n"
   ]
  },
  {
   "cell_type": "markdown",
   "id": "089780fa-aeab-4b28-b39c-55f5c221e205",
   "metadata": {},
   "source": [
    "## differences with sarwing"
   ]
  },
  {
   "cell_type": "code",
   "execution_count": null,
   "id": "81eaaaa8-8b07-4669-8b2e-2afd0c310e35",
   "metadata": {},
   "outputs": [],
   "source": [
    "windspeed_diff = windspeed_co - sarwing_ds.owiWindSpeed_Tab_copol\n",
    "(\n",
    "    (hv.Image(windspeed_co).opts(title='xsarsea') + hv.Image(sarwing_ds.owiWindSpeed_Tab_copol).opts(title='sarwing' )).opts(hv.opts.Image(cmap='jet', clim=(0,32))) +  \n",
    "    hv.Image(windspeed_diff).opts(cmap='jet', clim=(-0.2,0.2), title='xsarsea-sarwing')\n",
    ").opts(hv.opts.Image(colorbar=True, tools=['hover']))"
   ]
  },
  {
   "cell_type": "markdown",
   "id": "353cb230-406e-466b-a85b-af69530c155f",
   "metadata": {},
   "source": [
    "## dualpol inversion"
   ]
  },
  {
   "cell_type": "code",
   "execution_count": null,
   "id": "af0841b0-b5a4-42d8-994d-360cecd32797",
   "metadata": {},
   "outputs": [],
   "source": [
    "sarwing_luts_subset_path = xsar.get_test_file('sarwing_luts_subset')\n",
    "windspeed.sarwing_luts.register(sarwing_luts_subset_path)\n",
    "\n",
    "windspeed_dual = windspeed.invert_from_gmf(\n",
    "        sarwing_ds.owiIncidenceAngle,\n",
    "        sarwing_ds.owiNrcs,\n",
    "        sarwing_ds.owiNrcs_cross,\n",
    "        windspeed.nesz_flattening(sarwing_ds.owiNesz_cross, sarwing_ds.owiIncidenceAngle),\n",
    "        sarwing_ds.owi_ancillary_wind,\n",
    "        gmf=('cmod5n','cmodms1ahw'))"
   ]
  },
  {
   "cell_type": "markdown",
   "id": "29379eaa-c340-4f52-9586-dafecb0cfa19",
   "metadata": {},
   "source": [
    "## differences with sarwing"
   ]
  },
  {
   "cell_type": "code",
   "execution_count": null,
   "id": "0ecead16-b097-44a5-93e4-3a6dc175d0a5",
   "metadata": {},
   "outputs": [],
   "source": [
    "windspeed_diff = windspeed_dual - sarwing_ds.owiWindSpeed_Tab_dualpol_2steps\n",
    "(\n",
    "    (hv.Image(windspeed_dual).opts(title='xsarsea') + \n",
    "     hv.Image(sarwing_ds.owiWindSpeed_Tab_dualpol_2steps).opts(title='sarwing' )).opts(hv.opts.Image(cmap='jet', clim=(0,50))) +  \n",
    "    hv.Image(windspeed_diff).opts(cmap='jet', clim=(-0.2,0.2), title='xsarsea-sarwing')\n",
    ").opts(hv.opts.Image(colorbar=True, tools=['hover']))"
   ]
  },
  {
   "cell_type": "markdown",
   "id": "ebed42be-b70d-410c-b40b-a29e36e6e791",
   "metadata": {},
   "source": [
    "## Adding your own GMF\n",
    "\n",
    "A *Geophysical Modeling Function * (GMF) is a function that return a simulated *sigma0* from wind condition and instrument incidence angle.\n",
    "\n",
    "To register a new GMF with `xsarsea.windspeed`, you have to follow the following rules:\n",
    "\n",
    "  * parameters are `(incidence, windspeed)` or `(incidence, windspeed, phi)`\n",
    "    * `incidence` is in degrees\n",
    "    * `windspeed` is in m/s\n",
    "    * `phi` is wind direction, in degrees, relative to antenna look (0 is downwind in the antenna direction)\n",
    "    \n",
    "  * all parameters must be **float**. numpy array are not allowed. `xsarsea.windspeed` will vectorize the function with numba to allow numpy arrays.\n",
    "  * returned sigma0 must be **linear**, not dB."
   ]
  },
  {
   "cell_type": "code",
   "execution_count": null,
   "id": "9df92906-aa9d-47da-a986-c31b3a6cc00b",
   "metadata": {},
   "outputs": [],
   "source": [
    "@windspeed.utils.register_cmod(inc_range=[17., 50.], wspd_range=[3., 80.], phi_range=None)\n",
    "def dummy_gmf(incidence, speed, phi=None):\n",
    "    a0 = 0.00013106836021008122\n",
    "    a1 = -4.530598283705591e-06\n",
    "    a2 = 4.429277425062766e-08\n",
    "    b0 = 1.3925444179360706\n",
    "    b1 = 0.004157838450541205\n",
    "    b2 = 3.4735809771069953e-05\n",
    "\n",
    "    a = a0 + a1 * incidence + a2 * incidence ** 2\n",
    "    b = b0 + b1 * incidence + b2 * incidence ** 2\n",
    "    sig = a * speed ** b\n",
    "\n",
    "    return sig\n"
   ]
  },
  {
   "cell_type": "code",
   "execution_count": null,
   "id": "c7576513-14b3-48db-86d1-2089c50fb65c",
   "metadata": {},
   "outputs": [],
   "source": [
    "windspeed_dual = windspeed.invert_from_gmf(\n",
    "        sarwing_ds.owiIncidenceAngle,\n",
    "        sarwing_ds.owiNrcs,\n",
    "        sarwing_ds.owiNrcs_cross,\n",
    "        windspeed.nesz_flattening(sarwing_ds.owiNesz_cross, sarwing_ds.owiIncidenceAngle),\n",
    "        sarwing_ds.owi_ancillary_wind,\n",
    "        gmf=('cmod5n','dummy_gmf'))"
   ]
  },
  {
   "cell_type": "code",
   "execution_count": null,
   "id": "2bb0195b-f966-4c80-8ba2-635dd42dc807",
   "metadata": {},
   "outputs": [],
   "source": [
    "windspeed_diff = windspeed_dual - sarwing_ds.owiWindSpeed_Tab_dualpol_2steps\n",
    "(\n",
    "    (hv.Image(windspeed_dual).opts(title='xsarsea') + \n",
    "     hv.Image(sarwing_ds.owiWindSpeed_Tab_dualpol_2steps).opts(title='sarwing' )).opts(hv.opts.Image(cmap='jet', clim=(0,50))) +  \n",
    "    hv.Image(windspeed_diff).opts(cmap='jet', clim=(-5,5), title='xsarsea-sarwing')\n",
    ").opts(hv.opts.Image(colorbar=True, tools=['hover']))"
   ]
  }
 ],
 "metadata": {
  "language_info": {
   "name": "python",
   "pygments_lexer": "ipython3"
  }
 },
 "nbformat": 4,
 "nbformat_minor": 5
}
