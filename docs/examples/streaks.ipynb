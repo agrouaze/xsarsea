{
 "cells": [
  {
   "cell_type": "markdown",
   "id": "4568ec08",
   "metadata": {},
   "source": [
    "# Streaks analysis\n",
    "\n",
    "\n",
    "Streaks analysis is done by [Koch (20004)](https://www.climate-service-center.de/imperia/md/content/gkss/institut_fuer_kuestenforschung/ksd/paper/kochw_ieee_2004.pdf) algorithm implementation.\n"
   ]
  },
  {
   "cell_type": "code",
   "execution_count": null,
   "id": "bb5a0730",
   "metadata": {},
   "outputs": [],
   "source": [
    "# import needed modules\n",
    "import xsar\n",
    "import xsarsea\n",
    "import xsarsea.gradients\n",
    "\n",
    "import xarray as xr\n",
    "import numpy as np\n",
    "import scipy\n",
    "import os\n",
    "import time\n",
    "\n",
    "import logging\n",
    "logging.basicConfig()\n",
    "logging.getLogger('xsar.utils').setLevel(logging.DEBUG)\n",
    "logging.getLogger('xsarsea.streaks').setLevel(logging.DEBUG)\n",
    "\n",
    "import holoviews as hv\n",
    "hv.extension('bokeh')\n",
    "import geoviews as gv\n"
   ]
  },
  {
   "cell_type": "code",
   "execution_count": null,
   "id": "fbe38d74",
   "metadata": {},
   "outputs": [],
   "source": [
    "# open a file a 100m (IW_GRDH pixel size is 10m, so we use resolution=10)\n",
    "filename = xsar.get_test_file('S1A_IW_GRDH_1SDV_20170907T103020_20170907T103045_018268_01EB76_Z010.SAFE')\n",
    "#filename = xsar.get_test_file('S1B_IW_GRDH_1SDV_20181013T062322_20181013T062347_013130_018428_Z000.SAFE') # bz\n",
    "#filename=xsar.get_test_file('S1B_IW_GRDH_1SDV_20211024T051203_20211024T051228_029273_037E47_Z010.SAFE')\n",
    "#filename=xsar.get_test_file('S1A_IW_GRDH_1SDV_20170720T112706_20170720T112735_017554_01D5C2_Z010.SAFE')\n",
    "sar_ds = xsar.open_dataset(filename,resolution={'atrack':10,'xtrack':10}).isel(atrack=slice(20,None,None),xtrack=slice(20,None,None)) # isel to skip bad image edge\n",
    "\n",
    "# add detrended sigma0\n",
    "sar_ds['sigma0_detrend'] = xsarsea.sigma0_detrend(sar_ds.sigma0, sar_ds.incidence)\n",
    "\n",
    "# apply land mask\n",
    "land_mask = sar_ds['land_mask'].compute()\n",
    "sar_ds['sigma0_detrend'] = xr.where(land_mask, np.nan, sar_ds['sigma0_detrend']).transpose(*sar_ds['sigma0_detrend'].dims).compute()\n"
   ]
  },
  {
   "cell_type": "markdown",
   "id": "8e52d26e",
   "metadata": {},
   "source": [
    "## General overview\n",
    "\n",
    "Gradients direction analysis is done by moving a window over the image. [xsarsea.gradients.Gradients](../basic_api.rst#xsarsea.gradients.Gradients) allow multiple windows sizes and resolutions.\n",
    "\n",
    "`sar_ds` is a IW_GRDH SAFE with a pixel size of 10m at full resolution. We have opened the SAFE with `resolution={'atrack':10,'xtrack':10}`, so the pixel size is 100m.\n",
    "\n",
    "We want to compute gradients with windows size of 16km and 32km, and an input resolution of 100m and 200m.\n",
    "As the pixel size is 100m , we will use `windows_sizes=[160,320]` to get 16km and 32km, and  `downscales_factors=[1,2]` to get input resolution of 100m (no downscale), and 200m (downscale by factor 2)"
   ]
  },
  {
   "cell_type": "code",
   "execution_count": null,
   "id": "74e0a5fa",
   "metadata": {},
   "outputs": [],
   "source": [
    "gradients = xsarsea.gradients.Gradients(sar_ds['sigma0_detrend'], windows_sizes=[160,320], downscales_factors=[1,2])\n",
    "\n",
    "# get gradients histograms as an xarray dataset\n",
    "hist = gradients.histogram\n",
    "\n",
    "# get orthogonals gradients\n",
    "hist['angles'] = hist['angles'] + np.pi/2\n",
    "\n",
    "#mean\n",
    "hist_mean = hist.mean(['pol','downscale_factor','window_size'])\n",
    "\n",
    "# smooth\n",
    "hist_mean['quality'] = xsarsea.gradients.circ_smooth(hist_mean['quality'])\n",
    "\n",
    "# select histogram peak\n",
    "iangle = hist_mean['quality'].fillna(0).argmax(dim='angles')\n",
    "streaks_dir = hist_mean.angles.isel(angles=iangle)\n",
    "streaks_quality = hist_mean['quality'].isel(angles=iangle)\n",
    "streaks = xr.merge([dict(angle=streaks_dir,quality=streaks_quality)]).drop('angles')\n",
    "\n",
    "\n",
    "# convert from image convention (rad=0=atrack) to geographic convention (deg=0=north)\n",
    "# select needed variables in original dataset, and map them to streaks dataset\n",
    "streaks_geo = sar_ds[['longitude','latitude','ground_heading']].interp(\n",
    "    atrack=streaks.atrack,\n",
    "    xtrack=streaks.xtrack, \n",
    "    method='nearest')\n",
    "\n",
    "streaks_geo['quality'] = streaks['quality']\n",
    "\n",
    "# convert directions from image convention to geographic convetion\n",
    "# note that there is no clockwise swapping, because image axes are transposed\n",
    "streaks_geo['streaks_dir'] =  np.rad2deg(streaks['angle']) + streaks_geo['ground_heading']\n",
    "\n",
    "streaks_geo = streaks_geo.compute()\n",
    "\n",
    "# plot. Note that hv.VectorField only accept radians, and 0 is West, so we need to reconvert degrees to radians when calling ...\n",
    "gv.tile_sources.Wikipedia * gv.VectorField(\n",
    "    (\n",
    "        streaks_geo['longitude'], \n",
    "        streaks_geo['latitude'], \n",
    "        np.pi/2 -np.deg2rad(streaks_geo['streaks_dir']), \n",
    "        streaks_geo['quality']\n",
    "    )\n",
    ").opts(pivot='mid', arrow_heads=False, tools=['hover'], magnitude='Magnitude')\n",
    "\n"
   ]
  },
  {
   "cell_type": "markdown",
   "id": "97c9ff4b",
   "metadata": {},
   "source": [
    "> **_WARNING:_**  `hv.VectorField` and `gv.VectorField` don't use degrees north convention, but radian convention, with 0 = East or right\n",
    "> So, to use them with degrees north, you have to convert them to gradients with \n",
    "> ```python\n",
    "> np.pi/2 -np.deg2rad(deg_north)\n",
    "> ```\n",
    ">"
   ]
  },
  {
   "cell_type": "markdown",
   "id": "d76c35e9",
   "metadata": {},
   "source": [
    "## Digging into intermediate computations \n",
    "\n",
    "### streaks_geo\n",
    "\n",
    "`streaks_geo` is a `xarray.Dataset`, with `latitude`, `longitude` and `streaks_dir` (0=deg north) variables.\n",
    "\n",
    "It has dims `('atrack', 'xtrack')`, with a spacing corresponding to the first windows size, according to the window step."
   ]
  },
  {
   "cell_type": "code",
   "execution_count": null,
   "id": "8db64e59",
   "metadata": {},
   "outputs": [],
   "source": [
    "streaks_geo"
   ]
  },
  {
   "cell_type": "markdown",
   "id": "5001ec04",
   "metadata": {},
   "source": [
    "### streaks\n",
    "\n",
    "`streaks_geo` was computed from `streaks` (also a `xarray.Dataset`). The main difference is that the `angle` variable from `streaks` is in radians, in *image convention* (ie rad=0 is in atrack direction) \n",
    "\n"
   ]
  },
  {
   "cell_type": "code",
   "execution_count": null,
   "id": "f79f3ae4",
   "metadata": {},
   "outputs": [],
   "source": [
    "streaks"
   ]
  },
  {
   "cell_type": "markdown",
   "id": "2c42c677",
   "metadata": {},
   "source": [
    "#### Convertion from image convention to geographic convention\n",
    "\n",
    "```python\n",
    "angle_geo = np.rad2deg(angle_img) + ground_heading\n",
    "```\n",
    "\n",
    "#### Conversion from geographic convention to image convention\n",
    "```python\n",
    "angle_img = np.deg2rad(angle_geo - ground_heading)\n",
    "```\n",
    "\n"
   ]
  },
  {
   "cell_type": "markdown",
   "id": "d72f3b5a",
   "metadata": {},
   "source": [
    "### hist_mean\n",
    "\n",
    "`streaks` variable was computed from `hist_mean`.\n",
    "\n",
    "The main difference with `streaks` variable is that we don't have a single angle, but a histogram of probability for binned angles"
   ]
  },
  {
   "cell_type": "code",
   "execution_count": null,
   "id": "6bb19085",
   "metadata": {},
   "outputs": [],
   "source": [
    "hist_mean"
   ]
  },
  {
   "cell_type": "markdown",
   "id": "b1dc02d0",
   "metadata": {},
   "source": [
    "Let's exctract one histogram at an arbitrary position, and plot the histogram.\n",
    "\n",
    "We can do this with the regular `hv.Histogram` function, or use [xsarsea.gradients.histogram_plot](../basic_api.rst#xsarsea.gradients.histogram_plot), that plot the histogram as a circular one."
   ]
  },
  {
   "cell_type": "code",
   "execution_count": null,
   "id": "d504e5fc",
   "metadata": {},
   "outputs": [],
   "source": [
    "hist_at = hist_mean['quality'].sel(atrack=5000,xtrack=12000,method='nearest')\n",
    "hv.Histogram( (hist_at.angles, hist_at )) + xsarsea.gradients.histogram_plot(hist_at)"
   ]
  },
  {
   "cell_type": "markdown",
   "id": "3a0ee5f7",
   "metadata": {},
   "source": [
    "`xsarsea` also provide an interactive drawing class [xsarsea.gradients.PlotGradients](../basic_api.rst#xsarsea.gradients.PlotGradients) that can be used to draw the circular histogram at mouse tap. (needs a live notebook)"
   ]
  },
  {
   "cell_type": "code",
   "execution_count": null,
   "id": "43bfe478",
   "metadata": {},
   "outputs": [],
   "source": [
    "xsarsea.gradients.PlotGradients(hist_mean).iplot()"
   ]
  },
  {
   "cell_type": "markdown",
   "id": "71180ae6",
   "metadata": {},
   "source": [
    "`hist_mean` was smoothed. Let's recompute it without smoothing"
   ]
  },
  {
   "cell_type": "code",
   "execution_count": null,
   "id": "dbfdb787",
   "metadata": {},
   "outputs": [],
   "source": [
    "xsarsea.gradients.PlotGradients(hist.mean(['pol','downscale_factor','window_size'])).iplot()"
   ]
  },
  {
   "cell_type": "markdown",
   "id": "08174751",
   "metadata": {},
   "source": [
    "### hist\n",
    "\n",
    "`hist_mean` was computed from `hist`, by meaning non spatials dimensions `['pol','downscale_factor','window_size']`.\n",
    "\n",
    "That is because gradients where computed on several polarisations and windows sizes, and multiple resolutions:\n",
    "\n",
    "```python\n",
    "gradients = xsarsea.gradients.Gradients(sar_ds['sigma0_detrend'], windows_sizes=[160,320], downscales_factors=[1,2])\n",
    "hist = gradients.histogram\n",
    "```\n",
    "\n",
    "In fact, [xsarsea.gradients.Gradients](../basic_api.rst#xsarsea.gradients.Gradients) is a wrapper around [xsarsea.gradients.Gradients2D](../basic_api.rst#xsarsea.gradients.Gradients2D), that only accept 2D sigma0 (one polarization), and single window_size\n"
   ]
  },
  {
   "cell_type": "code",
   "execution_count": null,
   "id": "60fbd16a",
   "metadata": {},
   "outputs": [],
   "source": [
    "hist2D = xsarsea.gradients.Gradients2D(sar_ds['sigma0_detrend'].sel(pol='VH'), window_size=160, window_step=1).histogram\n",
    "\n",
    "# get orthogonals gradients\n",
    "hist2D['angles'] = hist2D['angles'] + np.pi/2\n",
    "\n",
    "xsarsea.gradients.PlotGradients(hist2D).iplot()"
   ]
  }
 ],
 "metadata": {
  "language_info": {
   "name": "python",
   "pygments_lexer": "ipython3"
  }
 },
 "nbformat": 4,
 "nbformat_minor": 5
}
