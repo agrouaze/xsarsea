{
 "cells": [
  {
   "cell_type": "markdown",
   "id": "f00a93d5-f933-45d0-8df4-7848b0992756",
   "metadata": {},
   "source": [
    "# GMFs and LUTs"
   ]
  },
  {
   "cell_type": "code",
   "execution_count": null,
   "id": "0cf95711-e516-4d82-98fc-f69d82eee303",
   "metadata": {},
   "outputs": [],
   "source": [
    "import xsar\n",
    "from xsarsea import windspeed\n",
    "import xarray as xr\n",
    "import numpy as np\n",
    "import holoviews as hv\n",
    "hv.extension('bokeh')"
   ]
  },
  {
   "cell_type": "code",
   "execution_count": null,
   "id": "430a3d16-3e29-4730-8ec3-b4a674fc1caf",
   "metadata": {},
   "outputs": [],
   "source": [
    "@windspeed.gmfs.register_gmf(inc_range=[17., 50.], wspd_range=[3., 80.], pols=['VH'], units='linear')\n",
    "def gmf_dummy(incidence, speed, phi=None): \n",
    "    a0 = 0.00013106836021008122\n",
    "    a1 = -4.530598283705591e-06\n",
    "    a2 = 4.429277425062766e-08\n",
    "    b0 = 1.3925444179360706\n",
    "    b1 = 0.004157838450541205\n",
    "    b2 = 3.4735809771069953e-05\n",
    "\n",
    "    a = a0 + a1 * incidence + a2 * incidence ** 2\n",
    "    b = b0 + b1 * incidence + b2 * incidence ** 2\n",
    "    sig = a * speed ** b\n",
    "\n",
    "    return sig"
   ]
  },
  {
   "cell_type": "code",
   "execution_count": null,
   "id": "ab5d131e-ca80-4095-b24b-511c30c22198",
   "metadata": {},
   "outputs": [],
   "source": [
    "sarwing_luts_subset_path = xsar.get_test_file('sarwing_luts_subset')\n",
    "windspeed.sarwing_luts.register_all_sarwing_luts(sarwing_luts_subset_path)\n",
    "windspeed.available_models"
   ]
  },
  {
   "cell_type": "code",
   "execution_count": null,
   "id": "c517464e-7547-4a82-a482-b0062cf0ed23",
   "metadata": {},
   "outputs": [],
   "source": [
    "\n",
    "def model_compare(compare_models):\n",
    "    \n",
    "    luts = [ windspeed.available_models[name].to_lut(units='linear')  for name in compare_models]\n",
    "    \n",
    "    if 'phi' not in luts[0].dims:\n",
    "        kdims=['incidence']\n",
    "        dim_range=dict(incidence=(17,50))\n",
    "    else:\n",
    "        kdims=['incidence', 'phi']\n",
    "        dim_range=dict(incidence=(17,50), phi=(0,180))\n",
    "    \n",
    "    def model_curve(incidence, phi=None):\n",
    "        if 'phi' not in luts[0].dims:\n",
    "            sel = dict(incidence=incidence)\n",
    "        else:\n",
    "            sel = dict(phi=phi, incidence=incidence)\n",
    "        return hv.Overlay(\n",
    "            [\n",
    "                hv.Curve(lut.sel(**sel, method='nearest'),'wspd','sigma0', label=lut.attrs['model']) for lut in luts\n",
    "            ]\n",
    "        )\n",
    "    \n",
    "    \n",
    "    dmap = hv.DynamicMap(model_curve, kdims=kdims).opts(height=600, width=600)\n",
    "    return dmap.redim.range(**dim_range)\n",
    "    \n"
   ]
  },
  {
   "cell_type": "code",
   "execution_count": null,
   "id": "8672da53-274e-42ed-be1a-72a7a47e8315",
   "metadata": {},
   "outputs": [],
   "source": [
    "model_compare([ 'gmf_dummy', 'sarwing_lut_cmodms1ahw' ])"
   ]
  },
  {
   "cell_type": "code",
   "execution_count": null,
   "id": "7c7cd7f8-5915-4fc5-b498-6c88bd36ce32",
   "metadata": {},
   "outputs": [],
   "source": [
    "model_compare([ 'gmf_cmod5n', 'gmf_cmod5' ])"
   ]
  },
  {
   "cell_type": "code",
   "execution_count": null,
   "id": "5917a038-07a6-4bf4-bbdf-4b424c0522b1",
   "metadata": {},
   "outputs": [],
   "source": []
  }
 ],
 "metadata": {
  "language_info": {
   "name": "python",
   "pygments_lexer": "ipython3"
  }
 },
 "nbformat": 4,
 "nbformat_minor": 5
}
